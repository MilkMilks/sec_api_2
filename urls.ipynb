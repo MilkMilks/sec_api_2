{
 "cells": [
  {
   "cell_type": "code",
   "execution_count": null,
   "metadata": {},
   "outputs": [],
   "source": [
    "import pandas as pd\n",
    "\n",
    "# Read URLs from text file\n",
    "with open('urls_fetched.txt') as f:\n",
    "    urls = f.read().splitlines()\n",
    "\n",
    "# Convert to DataFrame\n",
    "df = pd.DataFrame(urls, columns=['url'])\n",
    "\n",
    "# Get unique values \n",
    "unique_urls = df['url'].unique()\n",
    "\n",
    "# Convert back to list if needed\n",
    "unique_urls = list(unique_urls)\n",
    "\n",
    "# Write unique URLs back to new file\n",
    "with open('unique_urls.txt', 'w') as f:\n",
    "    f.write('\\n'.join(unique_urls))"
   ]
  },
  {
   "cell_type": "code",
   "execution_count": null,
   "metadata": {},
   "outputs": [],
   "source": [
    "import json\n",
    "\n",
    "urls = []\n",
    "\n",
    "with open('unique_urls.txt', encoding=\"utf-8\") as f:\n",
    "  for line in f:\n",
    "  \n",
    "    # Load line as JSON list\n",
    "    print(type(line))\n",
    "    line_list = json.loads(line)\n",
    "    \n",
    "    # Iterate through list of url dicts\n",
    "    for url_dict in line_list:\n",
    "    \n",
    "      # Extract url \n",
    "      url = url_dict['url_']\n",
    "      \n",
    "      # Append to url list\n",
    "      urls.append(url)\n",
    "\n",
    "# Write urls to file  \n",
    "with open('urls_extracted.txt', 'w') as f:\n",
    "  for url in urls:\n",
    "    f.write(f'{url}\\n')"
   ]
  },
  {
   "cell_type": "code",
   "execution_count": null,
   "metadata": {},
   "outputs": [],
   "source": [
    "import os\n",
    "\n",
    "file_count = 0\n",
    "\n",
    "for root, dirs, files in os.walk('./filings'):\n",
    "    for file in files:\n",
    "        file_count += 1\n",
    "\n",
    "print(file_count)"
   ]
  },
  {
   "cell_type": "code",
   "execution_count": null,
   "metadata": {},
   "outputs": [],
   "source": [
    "import os\n",
    "import re\n",
    "\n",
    "def get_filing_urls(path):\n",
    "    filing_urls = []\n",
    "    for root, dirs, files in os.walk(path):\n",
    "        for file in files:\n",
    "            filing_urls.append(os.path.join(root, file))\n",
    "    print(\"get_filing_urls():\")\n",
    "    print(filing_urls)\n",
    "    return filing_urls\n",
    "\n",
    "def get_filing_info(filing_url):\n",
    "    ticker, date, adsh = re.split('\\\\_|\\\\.', filing_url)\n",
    "    print(\"get_filing_info():\")\n",
    "    print(ticker, date, adsh)\n",
    "    return ticker, date, adsh\n",
    "\n",
    "def get_filing_info(filing_url):\n",
    "    ticker, date = re.split('\\\\_|\\\\.', filing_url)\n",
    "    print(\"get_filing_info():\")\n",
    "    print(ticker, date)\n",
    "\n",
    "def get_aligned_filings(unique_urls):\n",
    "    aligned_filings = {}\n",
    "    for filing_url in unique_urls:\n",
    "        ticker, date, adsh = get_filing_info(filing_url)\n",
    "        if ticker not in aligned_filings:\n",
    "            aligned_filings[ticker] = []\n",
    "        aligned_filings[ticker].append((date, adsh))\n",
    "    print(\"get_aligned_filings():\")\n",
    "    print(aligned_filings)\n",
    "    return aligned_filings\n",
    "\n",
    "def get_aligned_filings(unique_urls):\n",
    "    aligned_filings = {}\n",
    "    for filing_url in unique_urls:\n",
    "        ticker, date, adsh = get_filing_info(filing_url)\n",
    "        filing = (ticker, date, adsh)\n",
    "        if ticker not in aligned_filings:\n",
    "            aligned_filings[ticker] = []\n",
    "        aligned_filings[ticker].append(filing)\n",
    "    print(\"get_aligned_filings():\")\n",
    "    print(aligned_filings)\n",
    "    return aligned_filings\n",
    "\n",
    "if __name__ == '__main__':\n",
    "    path = 'filings'\n",
    "    filing_urls = get_filing_urls(path)\n",
    "    unique_urls = get_unique_urls(filing_urls)\n",
    "    aligned_filings = get_aligned_filings(unique_urls)\n",
    "    output_file = 'aligned_filings.txt'\n",
    "    write_aligned_filings(aligned_filings, output_file)\n"
   ]
  },
  {
   "cell_type": "code",
   "execution_count": 26,
   "metadata": {},
   "outputs": [],
   "source": [
    "import os\n",
    "\n",
    "def get_files(dir):\n",
    "    file_names = []\n",
    "    for root, dirs, files in os.walk(dir):\n",
    "        for file in sorted(files):\n",
    "            file_names.append(os.path.join(root, file))\n",
    "    return file_names\n",
    "\n",
    "file_names = get_files('./filings')\n",
    "\n",
    "with open('file_names.txt', 'w') as f:\n",
    "    for name in file_names:\n",
    "        f.write(name + '\\n')"
   ]
  },
  {
   "cell_type": "code",
   "execution_count": null,
   "metadata": {},
   "outputs": [],
   "source": [
    "import os\n",
    "\n",
    "folder = './filings'\n",
    "output_file = 'files.txt'\n",
    "\n",
    "with open(output_file, 'w') as f:\n",
    "\n",
    "    for root, dirs, files in os.walk(folder):\n",
    "        for file in files:\n",
    "            file_path = os.path.join(root, file)\n",
    "            f.write(file_path + '\\n')"
   ]
  },
  {
   "cell_type": "code",
   "execution_count": 8,
   "metadata": {},
   "outputs": [
    {
     "name": "stdout",
     "output_type": "stream",
     "text": [
      "721\n"
     ]
    }
   ],
   "source": [
    "import os\n",
    "empty_tickers = []\n",
    "\n",
    "for root, dirs, files in os.walk(root_dir):\n",
    "    if not files:\n",
    "        ticker = os.path.basename(root)\n",
    "        empty_tickers.append(ticker)\n",
    "\n",
    "print(len(empty_tickers))"
   ]
  }
 ],
 "metadata": {
  "kernelspec": {
   "display_name": "Python 3",
   "language": "python",
   "name": "python3"
  },
  "language_info": {
   "codemirror_mode": {
    "name": "ipython",
    "version": 3
   },
   "file_extension": ".py",
   "mimetype": "text/x-python",
   "name": "python",
   "nbconvert_exporter": "python",
   "pygments_lexer": "ipython3",
   "version": "3.11.5"
  },
  "orig_nbformat": 4
 },
 "nbformat": 4,
 "nbformat_minor": 2
}
